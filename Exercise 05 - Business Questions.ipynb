{
 "cells": [
  {
   "attachments": {},
   "cell_type": "markdown",
   "metadata": {},
   "source": [
    "# Exercise #5 - Business Questions\n",
    "\n",
    "In our last exercise, we are going to execute various joins across our four tables (**`orders`**, **`line_items`**, **`sales_reps`** and **`products`**) to answer basic business questions\n",
    "\n",
    "This exercise is broken up into 3 steps:\n",
    "* Exercise 5.A - Use Database\n",
    "* Exercise 5.B - Question #1\n",
    "* Exercise 5.C - Question #2\n",
    "* Exercise 5.D - Question #3"
   ]
  },
  {
   "cell_type": "code",
   "execution_count": 1,
   "metadata": {},
   "outputs": [],
   "source": [
    "user_db = \"learning_db\"\n",
    "orders_table = \"orders\"\n",
    "products_table = \"products\"\n",
    "line_items_table = \"line_items\"\n",
    "sales_reps_table = \"sales_reps\"\n",
    "question_1_results_table = \"question_1_results\"\n",
    "question_2_results_table = \"question_2_results\"\n",
    "question_3_results_table = \"question_3_results\""
   ]
  },
  {
   "attachments": {},
   "cell_type": "markdown",
   "metadata": {},
   "source": [
    "<h2><img src=\"https://files.training.databricks.com/images/105/logo_spark_tiny.png\"> Exercise #5.A - Use Database</h2>\n",
    "\n",
    "Each notebook uses a different Spark session and will initially use the **`default`** database.\n",
    "\n",
    "As in the previous exercise, we can avoid contention to commonly named tables by using our user-specific database.\n",
    "\n",
    "**In this step you will need to:**\n",
    "* Use the database identified by the variable **`user_db`** so that any tables created in this notebook are **NOT** added to the **`default`** database"
   ]
  },
  {
   "attachments": {},
   "cell_type": "markdown",
   "metadata": {},
   "source": [
    "### Implement Exercise #5.A\n",
    "\n",
    "Implement your solution in the following cell:"
   ]
  },
  {
   "cell_type": "code",
   "execution_count": null,
   "metadata": {},
   "outputs": [],
   "source": [
    "# TODO\n",
    "# Use this cell to complete your solution"
   ]
  },
  {
   "attachments": {},
   "cell_type": "markdown",
   "metadata": {},
   "source": [
    "<h2><img src=\"https://files.training.databricks.com/images/105/logo_spark_tiny.png\"> Exercise #5.B - Question #1</h2>\n",
    "## How many orders were shipped to each state?\n",
    "\n",
    "**In this step you will need to:**\n",
    "* Aggregate the orders by **`shipping_address_state`**\n",
    "* Count the number of records for each state\n",
    "* Sort the results by **`count`**, in descending order\n",
    "* Save the results to the temporary view **`question_1_results`**, identified by the variable **`question_1_results_table`**"
   ]
  },
  {
   "attachments": {},
   "cell_type": "markdown",
   "metadata": {},
   "source": [
    "### Implement Exercise #5.B\n",
    "\n",
    "Implement your solution in the following cell:"
   ]
  },
  {
   "cell_type": "code",
   "execution_count": null,
   "metadata": {},
   "outputs": [],
   "source": [
    "# TODO\n",
    "# Use this cell to complete your solution"
   ]
  },
  {
   "attachments": {},
   "cell_type": "markdown",
   "metadata": {},
   "source": [
    "<h2><img src=\"https://files.training.databricks.com/images/105/logo_spark_tiny.png\"> Exercise #5.C - Question #2</h2>\n",
    "## What is the average, minimum and maximum sale price for green products sold to North Carolina where the Sales Rep submitted an invalid Social Security Number (SSN)?\n",
    "\n",
    "**In this step you will need to:**\n",
    "* Execute a join across all four tables:\n",
    "  * **`orders`**, identified by the variable **`orders_table`**\n",
    "  * **`line_items`**, identified by the variable **`line_items_table`**\n",
    "  * **`products`**, identified by the variable **`products_table`**\n",
    "  * **`sales_reps`**, identified by the variable **`sales_reps_table`**\n",
    "* Limit the result to only green products (**`color`**).\n",
    "* Limit the result to orders shipped to North Carolina (**`shipping_address_state`**)\n",
    "* Limit the result to sales reps that initially submitted an improperly formatted SSN (**`_error_ssn_format`**)\n",
    "* Calculate the average, minimum and maximum of **`product_sold_price`** - do not rename these columns after computing.\n",
    "* Save the results to the temporary view **`question_2_results`**, identified by the variable **`question_2_results_table`**\n",
    "* The temporary view should have the following three columns: **`avg(product_sold_price)`**, **`min(product_sold_price)`**, **`max(product_sold_price)`**\n",
    "* Collect the results to the driver\n",
    "* Assign to the following local variables, the average, minimum, and maximum values - these variables will be passed to the reality check for validation.\n",
    " * **`ex_avg`** - the local variable holding the average value\n",
    " * **`ex_min`** - the local variable holding the minimum value\n",
    " * **`ex_max`** - the local variable holding the maximum value"
   ]
  },
  {
   "attachments": {},
   "cell_type": "markdown",
   "metadata": {},
   "source": [
    "### Implement Exercise #5.C\n",
    "\n",
    "Implement your solution in the following cell:"
   ]
  },
  {
   "cell_type": "code",
   "execution_count": null,
   "metadata": {},
   "outputs": [],
   "source": [
    "# TODO\n",
    "# Use this cell to complete your solution"
   ]
  },
  {
   "attachments": {},
   "cell_type": "markdown",
   "metadata": {},
   "source": [
    "<h2><img src=\"https://files.training.databricks.com/images/105/logo_spark_tiny.png\"> Exercise #5.D - Question #3</h2>\n",
    "## What is the first and last name of the top earning sales rep based on net sales?\n",
    "\n",
    "For this scenario...\n",
    "* The top earning sales rep will be identified as the individual producing the largest profit.\n",
    "* Profit is defined as the difference between **`product_sold_price`** and **`price`** which is then<br/>\n",
    "  multiplied by **`product_quantity`** as seen in **(product_sold_price - price) * product_quantity**\n",
    "\n",
    "**In this step you will need to:**\n",
    "* Execute a join across all four tables:\n",
    "  * **`orders`**, identified by the variable **`orders_table`**\n",
    "  * **`line_items`**, identified by the variable **`line_items_table`**\n",
    "  * **`products`**, identified by the variable **`products_table`**\n",
    "  * **`sales_reps`**, identified by the variable **`sales_reps_table`**\n",
    "* Calculate the profit for each line item of an order as described above.\n",
    "* Aggregate the results by the sales reps' first &amp; last name and then sum each reps' total profit.\n",
    "* Reduce the dataset to a single row for the sales rep with the largest profit.\n",
    "* Save the results to the temporary view **`question_3_results`**, identified by the variable **`question_3_results_table`**\n",
    "* The temporary view should have the following three columns: \n",
    "  * **`sales_rep_first_name`** - the first column by which to aggregate by\n",
    "  * **`sales_rep_last_name`** - the second column by which to aggregate by\n",
    "  * **`sum(total_profit)`** - the summation of the column **`total_profit`**"
   ]
  },
  {
   "attachments": {},
   "cell_type": "markdown",
   "metadata": {},
   "source": [
    "### Implement Exercise #5.D\n",
    "\n",
    "Implement your solution in the following cell:"
   ]
  },
  {
   "cell_type": "code",
   "execution_count": null,
   "metadata": {},
   "outputs": [],
   "source": [
    "# TODO\n",
    "# Use this cell to complete your solution"
   ]
  }
 ],
 "metadata": {
  "kernelspec": {
   "display_name": ".venv",
   "language": "python",
   "name": "python3"
  },
  "language_info": {
   "codemirror_mode": {
    "name": "ipython",
    "version": 3
   },
   "file_extension": ".py",
   "mimetype": "text/x-python",
   "name": "python",
   "nbconvert_exporter": "python",
   "pygments_lexer": "ipython3",
   "version": "3.9.5"
  },
  "orig_nbformat": 4,
  "vscode": {
   "interpreter": {
    "hash": "d9ead50db5f464cadce5ba018366328249412102842550c0c50bef2a2fd10d90"
   }
  }
 },
 "nbformat": 4,
 "nbformat_minor": 2
}
